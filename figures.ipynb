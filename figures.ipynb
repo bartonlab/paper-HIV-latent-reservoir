{
 "cells": [
  {
   "cell_type": "markdown",
   "metadata": {},
   "source": [
    "# Figures for paper"
   ]
  },
  {
   "cell_type": "markdown",
   "metadata": {},
   "source": [
    "- [Importing libraries](#libraries)<br>\n",
    "- [Main figures](#main)<br>\n",
    "    -[Figure 2. Distribution of clones in the HIV-1 latent reservoir early in infection](#fig2)<br>\n",
    "    -[Figure 3. Latent reservoir dynamics after ART initiation in an example simulation](#fig3)<br>\n",
    "    -[Figure 4. Dynamics of the latent reservoir during ART](#fig4)<br>\n",
    "    -[Figure 5. Distribution of clones in the latent reservoir after early intervention](#fig5)<br>\n",
    "- [Methods figures](#methods)<br>\n",
    "\n",
    "    "
   ]
  },
  {
   "cell_type": "raw",
   "metadata": {},
   "source": [
    "# Converting uncompressed .csv to compressed .csv.gz\n",
    "\n",
    "import pandas as pd\n",
    "import os\n",
    "\n",
    "base_files = ['clones', 'totals']\n",
    "extended_files = ['sequences', 'defectives']\n",
    "\n",
    "file_io = [\n",
    "    ['OutputFiles/FullSimOrder7', 'data/full', 'extended'],\n",
    "    ['OutputFiles/EarlyART', 'data/early', 'extended'],\n",
    "    ['OutputFiles/mutations_wave/Order7', 'data/mutations_wave_7', 'extended'],\n",
    "    ['OutputFiles/mutations_wave/Order10', 'data/mutations_wave_10', 'extended'],\n",
    "    ['OutputFiles/constant_latentOnly/Order7', 'data/constant_7', 'base'],\n",
    "    ['OutputFiles/constant_latentOnly/Order8', 'data/constant_8', 'base'],\n",
    "    ['OutputFiles/constant_latentOnly/Order9', 'data/constant_9', 'base'],\n",
    "]\n",
    "\n",
    "for fio in file_io:\n",
    "    files = [f for f in base_files]\n",
    "    if fio[-1]=='extended':\n",
    "        files += [f for f in extended_files]\n",
    "    \n",
    "    for f in files:\n",
    "        in_file  = os.path.join(fio[0], f+'.csv')\n",
    "        out_file = os.path.join(fio[1], f+'.csv.gz')\n",
    "    \n",
    "        df = pd.read_csv(in_file)\n",
    "        df.to_csv(out_file, compression='gzip')"
   ]
  },
  {
   "cell_type": "markdown",
   "metadata": {},
   "source": [
    "<a class=\"anchor\" id=\"libraries\"></a>\n",
    "## Importing libraries"
   ]
  },
  {
   "cell_type": "code",
   "execution_count": 1,
   "metadata": {},
   "outputs": [],
   "source": [
    "%matplotlib inline\n",
    "from copy import deepcopy\n",
    "from timeit import default_timer as timer\n",
    "import math\n",
    "from IPython.display import HTML\n",
    "\n",
    "import numpy as np\n",
    "import pandas as pd\n",
    "import seaborn as sns\n",
    "\n",
    "import scipy.stats as stats\n",
    "from scipy.interpolate import griddata\n",
    "from sklearn.linear_model import LinearRegression\n",
    "\n",
    "import matplotlib\n",
    "import matplotlib.pyplot as plt\n",
    "import matplotlib.gridspec as gridspec\n",
    "import matplotlib.image as mpimg\n",
    "from matplotlib import animation, rc\n",
    "from matplotlib import cm\n",
    "\n",
    "from colorsys import hls_to_rgb\n",
    "from brewer2mpl import sequential"
   ]
  },
  {
   "cell_type": "code",
   "execution_count": 2,
   "metadata": {},
   "outputs": [],
   "source": [
    "# Importing John's library to make figures\n",
    "import mplot as mp"
   ]
  },
  {
   "cell_type": "code",
   "execution_count": 56,
   "metadata": {},
   "outputs": [
    {
     "name": "stdout",
     "output_type": "stream",
     "text": [
      "Figures below were produced using the following packages:\n",
      "python == 3.7.7 (default, Mar 22 2020, 03:01:05) \n",
      "[Clang 11.0.0 (clang-1100.0.33.17)]\n",
      "numpy == 1.21.5\n",
      "scipy == 1.7.3\n",
      "pandas == 0.24.1\n",
      "matplotlib == 3.4.2\n",
      "seaborn == 0.9.0\n"
     ]
    }
   ],
   "source": [
    "# Full library list and version numbers\n",
    "\n",
    "print('Figures below were produced using the following packages:')\n",
    "\n",
    "import os\n",
    "import sys\n",
    "from importlib import reload\n",
    "print('python ==', sys.version)\n",
    "\n",
    "import numpy as np\n",
    "print('numpy ==', np.__version__)\n",
    "\n",
    "import scipy as sp\n",
    "import scipy.stats as st\n",
    "print('scipy ==', sp.__version__)\n",
    "\n",
    "import pandas as pd\n",
    "print('pandas ==', pd.__version__)\n",
    "\n",
    "import matplotlib\n",
    "import matplotlib.pyplot as plt\n",
    "print('matplotlib ==', matplotlib.__version__)\n",
    "\n",
    "import seaborn as sns \n",
    "print('seaborn ==', sns.__version__)\n",
    "\n",
    "import mplot as mp\n",
    "\n",
    "import figures as figs"
   ]
  },
  {
   "cell_type": "markdown",
   "metadata": {},
   "source": [
    "## Setting path to datasets"
   ]
  },
  {
   "cell_type": "code",
   "execution_count": 9,
   "metadata": {},
   "outputs": [],
   "source": [
    "# GLOBAL VARIABLES\n",
    "\n",
    "DATA_DIR         = os.path.join(os.getcwd(), 'data')\n",
    "DATA_DIR_FULL    = os.path.join(DATA_DIR, 'full')\n",
    "DATA_DIR_EARLY   = os.path.join(DATA_DIR, 'early')\n",
    "DATA_DIR_WAVE_7  = os.path.join(DATA_DIR, 'mutations_wave_7')\n",
    "DATA_DIR_WAVE_10 = os.path.join(DATA_DIR, 'mutations_wave_10')\n",
    "DATA_DIR_CONST_7 = os.path.join(DATA_DIR, 'constant_7')\n",
    "DATA_DIR_CONST_8 = os.path.join(DATA_DIR, 'constant_8')\n",
    "DATA_DIR_CONST_9 = os.path.join(DATA_DIR, 'constant_9')"
   ]
  },
  {
   "cell_type": "markdown",
   "metadata": {},
   "source": [
    "<a class=\"anchor\" id=\"main\"></a>\n",
    "# Main figures"
   ]
  },
  {
   "cell_type": "markdown",
   "metadata": {},
   "source": [
    "<a class=\"anchor\" id=\"fig2\"></a>\n",
    "## Figure 2. Distribution of clones in the HIV-1 latent reservoir early in infection\n",
    "Figure generated from the full simulation"
   ]
  },
  {
   "cell_type": "code",
   "execution_count": 5,
   "metadata": {},
   "outputs": [],
   "source": [
    "reload(figs)\n",
    "\n",
    "# Pass early clone information to figure generator\n",
    "\n",
    "pdata = {\n",
    "    'clone_file': os.path.join(DATA_DIR_FULL, 'clones.csv.gz'), # clone sizes\n",
    "    'fig_title':  'fig-2-lr-early',                             # figure title\n",
    "}\n",
    "\n",
    "figs.plot_lr_distribution_early(**pdata)"
   ]
  },
  {
   "cell_type": "markdown",
   "metadata": {},
   "source": [
    "<a class=\"anchor\" id=\"fig3\"></a>\n",
    "## Figure 3. Latent reservoir dynamics after ART initiation in an example simulation\n",
    "Figure generated from one example of the full simulation"
   ]
  },
  {
   "cell_type": "code",
   "execution_count": 6,
   "metadata": {},
   "outputs": [],
   "source": [
    "reload(figs)\n",
    "\n",
    "# Pass HIV-1 decay information to figure generator\n",
    "\n",
    "pdata = {\n",
    "    'total_file': os.path.join(DATA_DIR_FULL, 'totals.csv.gz'), # LR statistics\n",
    "    'fig_title':  'fig-3-decay',                                # figure title\n",
    "}\n",
    "\n",
    "figs.plot_decay(**pdata)"
   ]
  },
  {
   "cell_type": "markdown",
   "metadata": {},
   "source": [
    "<a class=\"anchor\" id=\"fig4\"></a>\n",
    "## Figure 4. Dynamics of the latent reservoir during ART\n",
    "\n",
    "This figure is generated from 2 simulations\n",
    " - Simulation with the approximation that latent clones are being produced at a constant rate\n",
    " - Simulation where constant number of new active and new latent clones are being produced to analyze number of accumulated mutations\n"
   ]
  },
  {
   "cell_type": "code",
   "execution_count": 7,
   "metadata": {},
   "outputs": [],
   "source": [
    "reload(figs)\n",
    "\n",
    "# Pass post-ART clone information to figure generator\n",
    "\n",
    "pdata = {\n",
    "    'clone_file':    os.path.join(DATA_DIR_CONST_9, 'clones.csv.gz'),    # clone sizes\n",
    "    'timepoints':    [0, 4, 8, 12],                                      # time points to plot\n",
    "    'order':         9,                                                  # simulation size\n",
    "    'mutation_file': os.path.join(DATA_DIR_WAVE_10, 'sequences.csv.gz'), # mutations\n",
    "    'fig_title':     'fig-4-lr-mutations-art',                           # figure title\n",
    "}\n",
    "\n",
    "figs.plot_lr_distribution_mutations_art(**pdata)"
   ]
  },
  {
   "cell_type": "markdown",
   "metadata": {},
   "source": [
    "<a class=\"anchor\" id=\"fig5\"></a>\n",
    "## Figure 5. Distribution of clones in the latent reservoir after early intervention.\n",
    "Figure generated from full simulation with early intervention"
   ]
  },
  {
   "cell_type": "code",
   "execution_count": 8,
   "metadata": {},
   "outputs": [],
   "source": [
    "reload(figs)\n",
    "\n",
    "# Pass post-early intervention/elite control clone information to figure generator\n",
    "\n",
    "pdata = {\n",
    "    'clone_file':    os.path.join(DATA_DIR_EARLY, 'clones.csv.gz'),  # clone sizes\n",
    "    'timepoints':    [0, 8],                                         # time points to plot\n",
    "    'fig_title':     'fig-5-lr-early-intervention',                  # figure title\n",
    "}\n",
    "\n",
    "figs.plot_lr_distribution_ei(**pdata)"
   ]
  },
  {
   "cell_type": "markdown",
   "metadata": {},
   "source": [
    "<a class=\"anchor\" id=\"methods\"></a>\n",
    "# Methods figures"
   ]
  },
  {
   "cell_type": "markdown",
   "metadata": {},
   "source": [
    "## Methods Figure 1. Comparison of decays"
   ]
  },
  {
   "cell_type": "code",
   "execution_count": 15,
   "metadata": {},
   "outputs": [],
   "source": [
    "reload(figs)\n",
    "\n",
    "# Pass information to figure generator\n",
    "\n",
    "pdata = {\n",
    "    'total_full_file':     os.path.join(DATA_DIR_FULL, 'totals.csv.gz'),       # totals full simulation\n",
    "    'total_constant_file': os.path.join(DATA_DIR_CONST_7, 'totals.csv.gz'),    # totals constant latent\n",
    "    'fig_title':           'methods-fig-1-decaycomparison',                           # figure title\n",
    "}\n",
    "\n",
    "figs.plot_decay_FullVSConstantLatent(**pdata)"
   ]
  },
  {
   "cell_type": "code",
   "execution_count": null,
   "metadata": {},
   "outputs": [],
   "source": []
  },
  {
   "cell_type": "markdown",
   "metadata": {},
   "source": [
    "## Methods Figure 2. Comparison of distributions"
   ]
  },
  {
   "cell_type": "code",
   "execution_count": 55,
   "metadata": {},
   "outputs": [],
   "source": [
    "reload(figs)\n",
    "\n",
    "# Pass post-ART clone information to figure generator\n",
    "\n",
    "pdata = {\n",
    "    'clone_full_file':     os.path.join(DATA_DIR_FULL, 'clones.csv.gz'),    # clone sizes full simulation\n",
    "    'clone_constant_file': os.path.join(DATA_DIR_CONST_7, 'clones.csv.gz'), # clone sizes constant latent\n",
    "    'fig_title':           'methods-fig-2-distributioncomparison',          # figure title\n",
    "}\n",
    "\n",
    "figs.plot_distribution_FullVSConstantLatent(**pdata)"
   ]
  },
  {
   "cell_type": "code",
   "execution_count": null,
   "metadata": {},
   "outputs": [],
   "source": []
  },
  {
   "cell_type": "markdown",
   "metadata": {},
   "source": [
    "## Methods Figure 3. Number of new mutated sequences"
   ]
  },
  {
   "cell_type": "code",
   "execution_count": 57,
   "metadata": {},
   "outputs": [],
   "source": [
    "reload(figs)\n",
    "\n",
    "# Pass post-ART clone information to figure generator\n",
    "\n",
    "pdata = {\n",
    "    'total_full_file':     os.path.join(DATA_DIR_FULL, 'totals.csv.gz'),    # clone sizes full simulation\n",
    "    'fig_title':           'methods-fig-3-new_mutated_sequences',          # figure title\n",
    "}\n",
    "\n",
    "figs.plot_new_mutated_sequences(**pdata)"
   ]
  },
  {
   "cell_type": "code",
   "execution_count": null,
   "metadata": {},
   "outputs": [],
   "source": []
  },
  {
   "cell_type": "code",
   "execution_count": null,
   "metadata": {},
   "outputs": [],
   "source": []
  },
  {
   "cell_type": "code",
   "execution_count": null,
   "metadata": {},
   "outputs": [],
   "source": []
  },
  {
   "cell_type": "code",
   "execution_count": null,
   "metadata": {},
   "outputs": [],
   "source": []
  },
  {
   "cell_type": "code",
   "execution_count": null,
   "metadata": {},
   "outputs": [],
   "source": []
  },
  {
   "cell_type": "code",
   "execution_count": null,
   "metadata": {},
   "outputs": [],
   "source": []
  },
  {
   "cell_type": "code",
   "execution_count": null,
   "metadata": {},
   "outputs": [],
   "source": []
  }
 ],
 "metadata": {
  "kernelspec": {
   "display_name": "Python 3",
   "language": "python",
   "name": "python3"
  },
  "language_info": {
   "codemirror_mode": {
    "name": "ipython",
    "version": 3
   },
   "file_extension": ".py",
   "mimetype": "text/x-python",
   "name": "python",
   "nbconvert_exporter": "python",
   "pygments_lexer": "ipython3",
   "version": "3.7.7"
  }
 },
 "nbformat": 4,
 "nbformat_minor": 2
}
