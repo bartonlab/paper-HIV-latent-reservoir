{
 "cells": [
  {
   "cell_type": "code",
   "execution_count": 1,
   "id": "477a56c8-fc7f-4041-b812-a3a65f946c86",
   "metadata": {},
   "outputs": [],
   "source": [
    "import numpy as np\n",
    "import pandas as pd\n",
    "import matplotlib.pyplot as plt\n",
    "import seaborn as sns\n",
    "import mplot as mp\n",
    "import matplotlib.gridspec as gridspec\n",
    "import os\n",
    "import matplotlib"
   ]
  },
  {
   "cell_type": "markdown",
   "id": "df8e7ffc-0cf3-4345-820f-5aa9c28526d4",
   "metadata": {},
   "source": [
    "Below is the plotting code for the repeat chronic ART order 9 simulations:"
   ]
  },
  {
   "cell_type": "code",
   "execution_count": 2,
   "id": "9ef606eb-fb34-4cc8-8b96-47d4dc13ea22",
   "metadata": {},
   "outputs": [],
   "source": [
    "xdat_list = []\n",
    "ydat_list = []\n",
    "\n",
    "cm2inch = lambda x: x/2.54\n",
    "SINGLE_COLUMN   = cm2inch(8.8)\n",
    "ONE_FIVE_COLUMN = cm2inch(11.4)\n",
    "DOUBLE_COLUMN   = cm2inch(18.0)\n",
    "SLIDE_WIDTH     = 10.5"
   ]
  },
  {
   "cell_type": "code",
   "execution_count": 3,
   "id": "97080a6f-5916-4af9-bd66-75b09ba976f1",
   "metadata": {},
   "outputs": [],
   "source": [
    "ORDER_FULLSIM = 9\n",
    "for i in range(1,4):\n",
    "    directory = \"../output/final_runs/full_ord9/Run\"+str(i)\n",
    "    for filename in os.listdir(directory):\n",
    "        if \"totals\" in filename:\n",
    "            df_totals_fullsim = pd.read_csv(directory + \"/\" + filename, memory_map=True, index_col= False)\n",
    "\n",
    "            t_fullsim         = np.array(df_totals_fullsim['t'])\n",
    "            Ltotal_fullsim    = np.array(df_totals_fullsim['Ltotal'])\n",
    "            LXRtotal_fullsim  = np.array(df_totals_fullsim['LXRtotal'])\n",
    "            Atotal_fullsim    = np.array(df_totals_fullsim['Atotal'])\n",
    "            ViralLoad_fullsim = (Atotal_fullsim*(10**(11-ORDER_FULLSIM)))/1680\n",
    "    \n",
    "            MONTHSART_FULLSIM = 60\n",
    "            ORDER_FULLSIM = 9\n",
    "            xdat = [(t_fullsim-MONTHSART_FULLSIM)/12]\n",
    "            ydat = [LXRtotal_fullsim/(1.75*(10**(ORDER_FULLSIM-6)))]\n",
    "\n",
    "            xdat_list.append(xdat)\n",
    "            ydat_list.append(ydat)\n",
    "    yint = 0.5*(10**(ORDER_FULLSIM-6))\n",
    "\n",
    "    Decay44 = yint*np.exp(-(np.divide(t_fullsim,44/np.log(2))))\n",
    "    Decay57 = yint*0.1*np.exp(-(np.divide(t_fullsim,57/np.log(2))))\n",
    "    Decay31 = yint*0.7*np.exp(-(np.divide(t_fullsim,31/np.log(2))))"
   ]
  },
  {
   "cell_type": "code",
   "execution_count": 4,
   "id": "8cfcdc70-e8b7-4427-8b37-fce8cb53dd60",
   "metadata": {},
   "outputs": [],
   "source": [
    "xdat_list_IUPM = xdat_list\n",
    "ydat_list_IUPM = ydat_list"
   ]
  },
  {
   "cell_type": "code",
   "execution_count": 7,
   "id": "1ce5168c-1985-4d5e-9332-9c1d5d2ad5ae",
   "metadata": {},
   "outputs": [],
   "source": [
    "xdat_list = []\n",
    "ydat_list = []\n",
    "for i in range(1,4):\n",
    "    directory = \"../output/final_runs/full_ord9/Run\"+str(i)\n",
    "    for filename in os.listdir(directory):\n",
    "        if \"totals\" in filename:\n",
    "            df_totals_fullsim = pd.read_csv(directory + \"/\" + filename, memory_map=True, index_col= False)\n",
    "\n",
    "            t_fullsim         = np.array(df_totals_fullsim['t'])\n",
    "            Ltotal_fullsim    = np.array(df_totals_fullsim['Ltotal'])\n",
    "            LXRtotal_fullsim  = np.array(df_totals_fullsim['LXRtotal'])\n",
    "            Atotal_fullsim    = np.array(df_totals_fullsim['Atotal'])\n",
    "            ViralLoad_fullsim = (Atotal_fullsim*(10**(11-ORDER_FULLSIM)))/1680\n",
    "    \n",
    "            MONTHSART_FULLSIM = 60\n",
    "            ORDER_FULLSIM = 9\n",
    "            xdat = [(t_fullsim-MONTHSART_FULLSIM)*30]\n",
    "\n",
    "            ydat = [Ltotal_fullsim/(1.75*(10**(ORDER_FULLSIM-6)))]\n",
    "            xdat_list.append(xdat)\n",
    "            ydat_list.append(ydat)"
   ]
  },
  {
   "cell_type": "code",
   "execution_count": 8,
   "id": "67a4d34c-22e3-44a0-8031-2329f244019b",
   "metadata": {},
   "outputs": [],
   "source": [
    "VAR_COLORS = sns.husl_palette(8)\n",
    "C_RNA      = VAR_COLORS[0]\n",
    "C_DNA      = VAR_COLORS[1]"
   ]
  },
  {
   "cell_type": "code",
   "execution_count": 9,
   "id": "82413b25-778b-4a1e-8642-bb599f6abf63",
   "metadata": {},
   "outputs": [],
   "source": [
    "xdat_list_DNA = xdat_list\n",
    "ydat_list_DNA = ydat_list\n",
    "Decay99d = 2.7*(10**(ORDER_FULLSIM-3))*np.exp(-(np.divide(t_fullsim-MONTHSART_FULLSIM-0.47,(99/30)/np.log(2))))\n",
    "Decay133d = 2.7*(10**(ORDER_FULLSIM-3))*np.exp(-(np.divide(t_fullsim-MONTHSART_FULLSIM-0.47,(133/30)/np.log(2))))"
   ]
  },
  {
   "cell_type": "code",
   "execution_count": 10,
   "id": "95437068-36ed-4485-bbac-97d0ab7eba16",
   "metadata": {},
   "outputs": [],
   "source": [
    "index = 0\n",
    "for item in range(0,len(list(xdat[0]))):\n",
    "    if list(xdat[0])[item]>=14:\n",
    "        index = item\n",
    "        break"
   ]
  },
  {
   "cell_type": "code",
   "execution_count": 12,
   "id": "42346446-8297-43f3-a60a-f687e1d5972a",
   "metadata": {},
   "outputs": [],
   "source": [
    "xdat_list = []\n",
    "ydat_list = []\n",
    "for i in range(1,4):\n",
    "    directory = \"../output/final_runs/full_ord9/Run\"+str(i)\n",
    "    for filename in os.listdir(directory):\n",
    "        if \"totals\" in filename:\n",
    "            df_totals_fullsim = pd.read_csv(directory + \"/\" + filename, memory_map=True, index_col= False)\n",
    "\n",
    "            t_fullsim         = np.array(df_totals_fullsim['t'])\n",
    "            Ltotal_fullsim    = np.array(df_totals_fullsim['Ltotal'])\n",
    "            LXRtotal_fullsim  = np.array(df_totals_fullsim['LXRtotal'])\n",
    "            Atotal_fullsim    = np.array(df_totals_fullsim['Atotal'])\n",
    "            ViralLoad_fullsim = (Atotal_fullsim*(10**(11-ORDER_FULLSIM)))/1680\n",
    "    \n",
    "            MONTHSART_FULLSIM = 60\n",
    "            ORDER_FULLSIM = 9\n",
    "            xdat = [(t_fullsim-MONTHSART_FULLSIM)*30]\n",
    "            ydat = [ViralLoad_fullsim]\n",
    "            xdat_list.append(xdat)\n",
    "            ydat_list.append(ydat)"
   ]
  },
  {
   "cell_type": "code",
   "execution_count": 13,
   "id": "bc2f7849-ab17-4c6e-a762-07fb608ebfb7",
   "metadata": {},
   "outputs": [],
   "source": [
    "xdat_list_RNA = xdat_list\n",
    "ydat_list_RNA = ydat_list"
   ]
  },
  {
   "cell_type": "code",
   "execution_count": 14,
   "id": "1051f55b-2d78-4582-b550-39c5b3986212",
   "metadata": {},
   "outputs": [
    {
     "name": "stderr",
     "output_type": "stream",
     "text": [
      "/tmp/ipykernel_2821623/3213728047.py:22: DeprecationWarning: Conversion of an array with ndim > 0 to a scalar is deprecated, and will error in future. Ensure you extract a single element from your array before performing this operation. (Deprecated NumPy 1.25.)\n",
      "  idx = int(idx)\n"
     ]
    }
   ],
   "source": [
    "MONTHSART_FULLSIM = 60\n",
    "\n",
    "idx, = np.where((t_fullsim > MONTHSART_FULLSIM-0.009) & (t_fullsim < MONTHSART_FULLSIM+0.009))\n",
    "idx = int(idx)\n",
    "timeMin = [0,10.0]\n",
    "wei1 = 1.0\n",
    "wei2 = 1.0\n",
    "init = ViralLoad_fullsim[idx]\n",
    "vl1 = np.array([init*wei1,  wei1*init*np.exp(-((float(timeMin[1])-float(timeMin[0]))/(1/np.log(2))))])  #1day half life\n",
    "vl2 = np.array([init*wei2, wei2*init*np.exp(-((timeMin[1]-timeMin[0])/(2/np.log(2))))])   #2day half life\n",
    "timeMax = [15, 45]\n",
    "init = ViralLoad_fullsim[idx+50]\n",
    "wei3 = 1.0\n",
    "wei4 = 1.0\n",
    "vl3 = np.array([init*wei3,  wei3*init*np.exp(-(30/(8/np.log(2))))])  #7.8day half life\n",
    "vl4 = np.array([init*wei4, wei4*init*np.exp(-(30/(28/np.log(2))))]) #27.2day half life"
   ]
  },
  {
   "cell_type": "code",
   "execution_count": 15,
   "id": "be11431c-c391-4980-aad5-9994a547806c",
   "metadata": {
    "scrolled": true
   },
   "outputs": [],
   "source": [
    "xdat_list_RNA = xdat_list\n",
    "ydat_list_RNA = ydat_list"
   ]
  },
  {
   "cell_type": "code",
   "execution_count": 16,
   "id": "f0c7a5d0-03e0-41cb-9b33-207cc1f82e03",
   "metadata": {},
   "outputs": [],
   "source": [
    "def clean_axes(ax):\n",
    "    ax.spines['top'].set_visible(False)\n",
    "    ax.spines['right'].set_visible(False)\n",
    "    ax.spines['left'].set_visible(True)\n",
    "    ax.spines['bottom'].set_visible(True)\n",
    "    ax.yaxis.set_ticks_position('left')\n",
    "    ax.xaxis.set_ticks_position('bottom')"
   ]
  },
  {
   "cell_type": "code",
   "execution_count": 17,
   "id": "07487593-da29-4c4b-a900-2f7ede646f7b",
   "metadata": {},
   "outputs": [
    {
     "data": {
      "text/plain": [
       "<Figure size 346.457x314.961 with 0 Axes>"
      ]
     },
     "metadata": {},
     "output_type": "display_data"
    }
   ],
   "source": [
    "cm2inch = lambda x: x/2.54\n",
    "SINGLE_COLUMN   = cm2inch(8.8)\n",
    "w     = SINGLE_COLUMN\n",
    "goldh = w / 1.1\n",
    "fig   = plt.figure(figsize=(w, goldh))"
   ]
  },
  {
   "cell_type": "code",
   "execution_count": 18,
   "id": "3739b700-dbd5-4876-bb17-ea87fc6860f0",
   "metadata": {},
   "outputs": [],
   "source": [
    "VAR_COLORS = sns.husl_palette(8)\n",
    "C_RNA      = VAR_COLORS[0]\n",
    "C_DNA      = VAR_COLORS[1]\n",
    "C_IUPM     = VAR_COLORS[2]\n",
    "C_MUT      = VAR_COLORS[4]\n",
    "C_CLONE    = VAR_COLORS[5]\n",
    "C_EPSILON  = VAR_COLORS[5]\n",
    "C_D614G    = VAR_COLORS[6]\n",
    "C_A222V    = VAR_COLORS[7]"
   ]
  },
  {
   "cell_type": "code",
   "execution_count": 19,
   "id": "7bb33201-e25b-4ba8-b861-c202ce15f8ca",
   "metadata": {},
   "outputs": [
    {
     "name": "stderr",
     "output_type": "stream",
     "text": [
      "findfont: Font family 'Arial' not found.\n",
      "findfont: Font family 'Arial' not found.\n",
      "findfont: Font family 'Arial' not found.\n",
      "findfont: Font family 'Arial' not found.\n",
      "findfont: Font family 'Arial' not found.\n",
      "findfont: Font family 'Arial' not found.\n",
      "findfont: Font family 'Arial' not found.\n",
      "findfont: Font family 'Arial' not found.\n",
      "findfont: Font family 'Arial' not found.\n",
      "findfont: Font family 'Arial' not found.\n",
      "findfont: Font family 'Arial' not found.\n",
      "findfont: Font family 'Arial' not found.\n",
      "findfont: Font family ['Arial'] not found. Falling back to DejaVu Sans.\n",
      "findfont: Font family 'Arial' not found.\n",
      "findfont: Font family 'Arial' not found.\n",
      "findfont: Font family 'Arial' not found.\n",
      "findfont: Font family 'Arial' not found.\n",
      "findfont: Font family 'Arial' not found.\n",
      "findfont: Font family 'Arial' not found.\n",
      "findfont: Font family 'Arial' not found.\n",
      "findfont: Font family 'Arial' not found.\n",
      "findfont: Font family 'Arial' not found.\n",
      "findfont: Font family 'Arial' not found.\n",
      "findfont: Font family 'Arial' not found.\n",
      "findfont: Font family 'Arial' not found.\n",
      "findfont: Font family 'Arial' not found.\n",
      "findfont: Font family 'Arial' not found.\n",
      "findfont: Font family 'Arial' not found.\n",
      "findfont: Font family 'Arial' not found.\n",
      "findfont: Font family 'Arial' not found.\n",
      "findfont: Font family 'Arial' not found.\n",
      "findfont: Font family 'Arial' not found.\n",
      "findfont: Font family 'Arial' not found.\n",
      "findfont: Font family 'Arial' not found.\n",
      "findfont: Font family 'Arial' not found.\n",
      "findfont: Font family 'Arial' not found.\n",
      "findfont: Font family 'Arial' not found.\n",
      "findfont: Font family 'Arial' not found.\n",
      "findfont: Font family 'Arial' not found.\n",
      "findfont: Font family 'Arial' not found.\n",
      "findfont: Font family 'Arial' not found.\n",
      "findfont: Font family 'Arial' not found.\n",
      "findfont: Font family 'Arial' not found.\n",
      "findfont: Font family 'Arial' not found.\n",
      "findfont: Font family 'Arial' not found.\n",
      "findfont: Font family 'Arial' not found.\n",
      "findfont: Font family 'Arial' not found.\n",
      "findfont: Font family 'Arial' not found.\n",
      "findfont: Font family 'Arial' not found.\n",
      "findfont: Font family 'Arial' not found.\n",
      "findfont: Font family 'Arial' not found.\n",
      "findfont: Font family 'Arial' not found.\n",
      "findfont: Font family 'Arial' not found.\n",
      "findfont: Font family 'Arial' not found.\n",
      "findfont: Font family 'Arial' not found.\n",
      "findfont: Font family 'Arial' not found.\n",
      "findfont: Font family 'Arial' not found.\n",
      "findfont: Font family 'Arial' not found.\n",
      "findfont: Font family 'Arial' not found.\n",
      "findfont: Font family 'Arial' not found.\n",
      "findfont: Font family 'Arial' not found.\n",
      "findfont: Font family 'Arial' not found.\n",
      "findfont: Font family 'Arial' not found.\n",
      "findfont: Font family 'Arial' not found.\n",
      "findfont: Font family 'Arial' not found.\n",
      "findfont: Font family 'Arial' not found.\n",
      "findfont: Font family 'Arial' not found.\n",
      "findfont: Font family 'Arial' not found.\n",
      "findfont: Font family 'Arial' not found.\n",
      "findfont: Font family 'Arial' not found.\n",
      "findfont: Font family 'Arial' not found.\n",
      "findfont: Font family 'Arial' not found.\n",
      "findfont: Font family 'Arial' not found.\n",
      "findfont: Font family 'Arial' not found.\n",
      "findfont: Font family 'Arial' not found.\n",
      "findfont: Font family 'Arial' not found.\n",
      "findfont: Font family 'Arial' not found.\n",
      "findfont: Font family 'Arial' not found.\n",
      "findfont: Font family 'Arial' not found.\n",
      "findfont: Font family 'Arial' not found.\n",
      "findfont: Font family 'Arial' not found.\n",
      "findfont: Font family 'Arial' not found.\n",
      "findfont: Font family 'Arial' not found.\n",
      "findfont: Font family 'Arial' not found.\n",
      "findfont: Font family 'Arial' not found.\n",
      "findfont: Font family 'Arial' not found.\n",
      "findfont: Font family 'Arial' not found.\n",
      "findfont: Font family 'Arial' not found.\n",
      "findfont: Font family 'Arial' not found.\n",
      "findfont: Font family 'Arial' not found.\n",
      "findfont: Font family 'Arial' not found.\n",
      "findfont: Font family 'Arial' not found.\n",
      "findfont: Font family 'Arial' not found.\n",
      "findfont: Font family 'Arial' not found.\n",
      "findfont: Font family 'Arial' not found.\n",
      "findfont: Font family 'Arial' not found.\n",
      "findfont: Font family 'Arial' not found.\n",
      "findfont: Font family 'Arial' not found.\n",
      "findfont: Font family 'Arial' not found.\n",
      "findfont: Font family 'Arial' not found.\n",
      "findfont: Font family 'Arial' not found.\n",
      "findfont: Font family 'Arial' not found.\n",
      "findfont: Font family 'Arial' not found.\n",
      "findfont: Font family 'Arial' not found.\n",
      "findfont: Font family 'Arial' not found.\n",
      "findfont: Font family 'Arial' not found.\n",
      "findfont: Font family 'Arial' not found.\n",
      "findfont: Font family 'Arial' not found.\n",
      "findfont: Font family 'Arial' not found.\n",
      "findfont: Font family 'Arial' not found.\n",
      "findfont: Font family 'Arial' not found.\n",
      "findfont: Font family 'Arial' not found.\n",
      "findfont: Font family 'Arial' not found.\n",
      "findfont: Font family 'Arial' not found.\n",
      "findfont: Font family 'Arial' not found.\n",
      "findfont: Font family 'Arial' not found.\n",
      "findfont: Font family 'Arial' not found.\n",
      "findfont: Font family 'Arial' not found.\n",
      "findfont: Font family 'Arial' not found.\n"
     ]
    },
    {
     "data": {
      "image/png": "[encoded data removed]",
      "text/plain": [
       "<Figure size 346.457x314.961 with 3 Axes>"
      ]
     },
     "metadata": {},
     "output_type": "display_data"
    }
   ],
   "source": [
    "matplotlib.rcParams['font.family'] = 'Arial'\n",
    "matplotlib.rcParams['font.size'] = 6\n",
    "matplotlib.rcParams['axes.labelsize'] = 6\n",
    "matplotlib.rcParams['xtick.labelsize'] = 6\n",
    "matplotlib.rcParams['ytick.labelsize'] = 6\n",
    "matplotlib.rcParams['legend.fontsize'] = 6\n",
    "\n",
    "fig, axs = plt.subplots(3, 1, figsize=(w,goldh), sharex=False, constrained_layout=True)\n",
    "\n",
    "for i in range(0,100):\n",
    "    axs[0].plot(list(xdat_list_RNA[i][0]),list(ydat_list_RNA[i][0]), color = C_RNA, alpha = 0.2)\n",
    "axs[0].plot(timeMin, vl1, color='#969696', label='Constraints from clinical data', alpha=1)\n",
    "axs[0].plot(timeMin, vl2, color='#969696', alpha=1)\n",
    "axs[0].plot(timeMax, vl3, color='#969696', alpha=1)\n",
    "axs[0].plot(timeMax, vl4, color='#969696', alpha=1)\n",
    "axs[0].set_yscale(\"log\")\n",
    "axs[0].set_xlabel(\"Time on ART (days)\")\n",
    "axs[0].set_ylabel(\"RNA copies per mL\")\n",
    "axs[0].set_xlim(0,45)\n",
    "axs[0].set_ylim(1e1, 1e6)\n",
    "axs[0].text(-0.1,0.98, 'A', transform=axs[0].transAxes, fontweight = 'bold', fontname = 'Arial', fontsize = 8)\n",
    "clean_axes(axs[0])\n",
    "\n",
    "for i in range(0,100):\n",
    "    axs[1].plot(list(xdat_list_DNA[i][0]),list(ydat_list_DNA[i][0]), color = C_DNA, alpha = 0.2)\n",
    "axs[1].plot((t_fullsim-MONTHSART_FULLSIM)[index:]*30, (Decay99d/(1.75*(10**(ORDER_FULLSIM-6))))[index:], color='#969696', alpha=1)\n",
    "axs[1].plot((t_fullsim-MONTHSART_FULLSIM)[index:]*30, (Decay133d/(1.75*(10**(ORDER_FULLSIM-6))))[index:], color='#969696', alpha=1)\n",
    "axs[1].set_yscale(\"log\")\n",
    "axs[1].set_xlabel(\"Time on ART (days)\")\n",
    "axs[1].set_ylabel(\"DNA per \" + r'$10^6$' + \" PBMC\")\n",
    "axs[1].set_xlim(0,150)\n",
    "axs[1].set_ylim(0.5e3, 2.8e3)\n",
    "axs[1].text(-0.1,0.98, 'B', transform=axs[1].transAxes, fontweight = 'bold', fontname = 'Arial', fontsize = 8)\n",
    "clean_axes(axs[1])\n",
    "\n",
    "for i in range(0,100):\n",
    "    axs[2].plot(list(xdat_list_IUPM[i][0]),list(ydat_list_IUPM[i][0]), color = C_IUPM, alpha = 0.2)\n",
    "axs[2].plot((t_fullsim-MONTHSART_FULLSIM)/12, 10*Decay57/(1.75*(10**(ORDER_FULLSIM-6))), color='#969696', alpha=1)\n",
    "axs[2].plot((t_fullsim-MONTHSART_FULLSIM)/12, Decay31/(1.75*(10**(ORDER_FULLSIM-6))), color = '#969696', alpha=1)\n",
    "axs[2].set_yscale(\"log\")\n",
    "axs[2].set_xlim(1,11)\n",
    "axs[2].set_ylim(10**(-4),10**1)\n",
    "axs[2].set_xlabel(\"Time on ART (years)\")\n",
    "axs[2].set_ylabel(\"IUPM\")\n",
    "axs[2].text(-0.1,0.98, 'C', transform=axs[2].transAxes, fontweight = 'bold', fontname = 'Arial', fontsize = 8)\n",
    "clean_axes(axs[2])\n",
    "\n",
    "# plt.legend()\n",
    "# plt.savefig(\"../figures/for_paper/fig3_repeat_simulations_kinetics.pdf\")\n",
    "# plt.savefig(\"../figures/for_paper/fig3_repeat_simulations_kinetics.png\", dpi=300)"
   ]
  },
  {
   "cell_type": "code",
   "execution_count": null,
   "id": "9d3c14ed-8118-43d2-b888-8bfe465627bf",
   "metadata": {},
   "outputs": [],
   "source": []
  }
 ],
 "metadata": {
  "kernelspec": {
   "display_name": "Python 3 (ipykernel)",
   "language": "python",
   "name": "python3"
  },
  "language_info": {
   "codemirror_mode": {
    "name": "ipython",
    "version": 3
   },
   "file_extension": ".py",
   "mimetype": "text/x-python",
   "name": "python",
   "nbconvert_exporter": "python",
   "pygments_lexer": "ipython3",
   "version": "3.12.7"
  }
 },
 "nbformat": 4,
 "nbformat_minor": 5
}
